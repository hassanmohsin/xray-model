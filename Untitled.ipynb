{
 "cells": [
  {
   "cell_type": "code",
   "execution_count": 71,
   "metadata": {},
   "outputs": [],
   "source": [
    "import torch\n",
    "import os\n",
    "import pandas as pd\n",
    "from agent import AgentGroup\n",
    "from predictor.dataset import PredictorDataset\n",
    "from torch.utils.data import Dataset, DataLoader\n",
    "from torchvision import transforms\n",
    "import PIL.Image as Im"
   ]
  },
  {
   "cell_type": "code",
   "execution_count": 15,
   "metadata": {},
   "outputs": [
    {
     "data": {
      "text/html": [
       "<div>\n",
       "<style scoped>\n",
       "    .dataframe tbody tr th:only-of-type {\n",
       "        vertical-align: middle;\n",
       "    }\n",
       "\n",
       "    .dataframe tbody tr th {\n",
       "        vertical-align: top;\n",
       "    }\n",
       "\n",
       "    .dataframe thead th {\n",
       "        text-align: right;\n",
       "    }\n",
       "</style>\n",
       "<table border=\"1\" class=\"dataframe\">\n",
       "  <thead>\n",
       "    <tr style=\"text-align: right;\">\n",
       "      <th></th>\n",
       "      <th>image_id</th>\n",
       "      <th>label</th>\n",
       "      <th>proba_0</th>\n",
       "      <th>proba_1</th>\n",
       "      <th>proba_2</th>\n",
       "      <th>proba_mean</th>\n",
       "      <th>proba_var</th>\n",
       "      <th>pred_label</th>\n",
       "      <th>success</th>\n",
       "    </tr>\n",
       "  </thead>\n",
       "  <tbody>\n",
       "    <tr>\n",
       "      <th>0</th>\n",
       "      <td>agent_one-033740</td>\n",
       "      <td>1</td>\n",
       "      <td>0.999990</td>\n",
       "      <td>0.999990</td>\n",
       "      <td>0.999990</td>\n",
       "      <td>0.999992</td>\n",
       "      <td>1.970690e-11</td>\n",
       "      <td>1</td>\n",
       "      <td>1</td>\n",
       "    </tr>\n",
       "    <tr>\n",
       "      <th>1</th>\n",
       "      <td>agent_one-001068</td>\n",
       "      <td>0</td>\n",
       "      <td>0.000719</td>\n",
       "      <td>0.000719</td>\n",
       "      <td>0.000719</td>\n",
       "      <td>0.000539</td>\n",
       "      <td>9.689039e-08</td>\n",
       "      <td>0</td>\n",
       "      <td>1</td>\n",
       "    </tr>\n",
       "    <tr>\n",
       "      <th>2</th>\n",
       "      <td>agent_one-008312</td>\n",
       "      <td>0</td>\n",
       "      <td>0.000896</td>\n",
       "      <td>0.000896</td>\n",
       "      <td>0.000896</td>\n",
       "      <td>0.000672</td>\n",
       "      <td>1.504076e-07</td>\n",
       "      <td>0</td>\n",
       "      <td>1</td>\n",
       "    </tr>\n",
       "    <tr>\n",
       "      <th>3</th>\n",
       "      <td>agent_one-031938</td>\n",
       "      <td>1</td>\n",
       "      <td>0.997802</td>\n",
       "      <td>0.997802</td>\n",
       "      <td>0.997802</td>\n",
       "      <td>0.998351</td>\n",
       "      <td>9.058841e-07</td>\n",
       "      <td>1</td>\n",
       "      <td>1</td>\n",
       "    </tr>\n",
       "    <tr>\n",
       "      <th>4</th>\n",
       "      <td>agent_one-008622</td>\n",
       "      <td>0</td>\n",
       "      <td>0.001044</td>\n",
       "      <td>0.001044</td>\n",
       "      <td>0.001044</td>\n",
       "      <td>0.000783</td>\n",
       "      <td>2.042519e-07</td>\n",
       "      <td>0</td>\n",
       "      <td>1</td>\n",
       "    </tr>\n",
       "  </tbody>\n",
       "</table>\n",
       "</div>"
      ],
      "text/plain": [
       "           image_id  label   proba_0   proba_1   proba_2  proba_mean     proba_var  pred_label  success\n",
       "0  agent_one-033740      1  0.999990  0.999990  0.999990    0.999992  1.970690e-11           1        1\n",
       "1  agent_one-001068      0  0.000719  0.000719  0.000719    0.000539  9.689039e-08           0        1\n",
       "2  agent_one-008312      0  0.000896  0.000896  0.000896    0.000672  1.504076e-07           0        1\n",
       "3  agent_one-031938      1  0.997802  0.997802  0.997802    0.998351  9.058841e-07           1        1\n",
       "4  agent_one-008622      0  0.001044  0.001044  0.001044    0.000783  2.042519e-07           0        1"
      ]
     },
     "execution_count": 15,
     "metadata": {},
     "output_type": "execute_result"
    }
   ],
   "source": [
    "def read_data(agent_name, subset=\"validation\")\n",
    "    df = pd.read_csv(f\"./results/agents/baseline/{agent_name}-predictions-on-{subset}}-set.csv\")\n",
    "    df['pred_label'] = df.proba_mean.apply(lambda x: round(x))\n",
    "    df['success'] = df.apply(lambda row: int(row['label'] == row['pred_label']), axis=1)\n",
    "    return df.success.mean()"
   ]
  },
  {
   "cell_type": "code",
   "execution_count": 16,
   "metadata": {},
   "outputs": [
    {
     "data": {
      "text/plain": [
       "0.852765"
      ]
     },
     "execution_count": 16,
     "metadata": {},
     "output_type": "execute_result"
    }
   ],
   "source": [
    "df.success.mean()"
   ]
  },
  {
   "cell_type": "code",
   "execution_count": 2,
   "metadata": {},
   "outputs": [],
   "source": [
    "group = AgentGroup()"
   ]
  },
  {
   "cell_type": "code",
   "execution_count": 41,
   "metadata": {},
   "outputs": [
    {
     "data": {
      "text/plain": [
       "['/data/mhassan/xray/dataset-1/dataset/validation-set',\n",
       " '/data/mhassan/xray/dataset-2/dataset/validation-set',\n",
       " '/data/mhassan/xray/dataset-3/dataset/validation-set',\n",
       " '/data/mhassan/xray/dataset-4/dataset/validation-set']"
      ]
     },
     "execution_count": 41,
     "metadata": {},
     "output_type": "execute_result"
    }
   ],
   "source": [
    "[os.path.join(agent.params['dataset_dir'], \"validation-set\") for agent in group.agents]"
   ]
  },
  {
   "cell_type": "code",
   "execution_count": 78,
   "metadata": {},
   "outputs": [],
   "source": [
    "class PDataset(Dataset):\n",
    "    def __init__(self, agent_name, transform, dataset=\"validation\", sample_count = None):\n",
    "        self.agent_name = agent_name\n",
    "        self.transform = transform\n",
    "        agent_group = AgentGroup()\n",
    "        self.agent = agent_group.get_agent(agent_name)\n",
    "        self.img_dirs = dict(zip(\n",
    "            [agent.name for agent in agent_group.agents],\n",
    "            [os.path.join(agent.params['dataset_dir'], \"validation-set\") for agent in agent_group.agents]            \n",
    "        ))\n",
    "        self.data = pd.read_csv(\n",
    "            os.path.join(self.agent.model_dir, f\"{self.agent.name}-predictions-on-{dataset}-set.csv\"),\n",
    "            nrows=sample_count\n",
    "        )\n",
    "        self.data['pred_label'] = self.data.proba_mean.apply(lambda x: round(x))\n",
    "        self.data['success'] = self.data.apply(lambda row: int(row['label'] == row['pred_label']), axis=1)\n",
    "        self.data['dataset_name'] = self.data.image_id.apply(lambda x: x.split('-')[0])\n",
    "        self.data['image_id'] = self.data.image_id.copy().apply(lambda x: x.split('-')[1])\n",
    "    \n",
    "    def __len__(self):\n",
    "        return len(self.data)\n",
    "    \n",
    "    def __getitem__(self, idx):\n",
    "        row = self.data.iloc[idx]\n",
    "        img = Im.open(\n",
    "            os.path.join(\n",
    "                self.img_dirs[row['dataset_name']],\n",
    "                f\"{row['image_id']}.png\"\n",
    "            )\n",
    "        ).convert('RGB')\n",
    "        img = self.transform(img)\n",
    "\n",
    "        return '-'.join([row['dataset_name'], row['image_id']]), img, torch.tensor(row['success'], dtype=torch.float)\n"
   ]
  },
  {
   "cell_type": "code",
   "execution_count": 79,
   "metadata": {},
   "outputs": [
    {
     "data": {
      "text/html": [
       "<div>\n",
       "<style scoped>\n",
       "    .dataframe tbody tr th:only-of-type {\n",
       "        vertical-align: middle;\n",
       "    }\n",
       "\n",
       "    .dataframe tbody tr th {\n",
       "        vertical-align: top;\n",
       "    }\n",
       "\n",
       "    .dataframe thead th {\n",
       "        text-align: right;\n",
       "    }\n",
       "</style>\n",
       "<table border=\"1\" class=\"dataframe\">\n",
       "  <thead>\n",
       "    <tr style=\"text-align: right;\">\n",
       "      <th></th>\n",
       "      <th>image_id</th>\n",
       "      <th>label</th>\n",
       "      <th>proba_0</th>\n",
       "      <th>proba_1</th>\n",
       "      <th>proba_2</th>\n",
       "      <th>proba_mean</th>\n",
       "      <th>proba_var</th>\n",
       "      <th>pred_label</th>\n",
       "      <th>success</th>\n",
       "      <th>dataset_name</th>\n",
       "    </tr>\n",
       "  </thead>\n",
       "  <tbody>\n",
       "    <tr>\n",
       "      <th>0</th>\n",
       "      <td>033740</td>\n",
       "      <td>1</td>\n",
       "      <td>0.999990</td>\n",
       "      <td>0.999990</td>\n",
       "      <td>0.999990</td>\n",
       "      <td>0.999992</td>\n",
       "      <td>1.970690e-11</td>\n",
       "      <td>1</td>\n",
       "      <td>1</td>\n",
       "      <td>agent_one</td>\n",
       "    </tr>\n",
       "    <tr>\n",
       "      <th>1</th>\n",
       "      <td>001068</td>\n",
       "      <td>0</td>\n",
       "      <td>0.000719</td>\n",
       "      <td>0.000719</td>\n",
       "      <td>0.000719</td>\n",
       "      <td>0.000539</td>\n",
       "      <td>9.689039e-08</td>\n",
       "      <td>0</td>\n",
       "      <td>1</td>\n",
       "      <td>agent_one</td>\n",
       "    </tr>\n",
       "    <tr>\n",
       "      <th>2</th>\n",
       "      <td>008312</td>\n",
       "      <td>0</td>\n",
       "      <td>0.000896</td>\n",
       "      <td>0.000896</td>\n",
       "      <td>0.000896</td>\n",
       "      <td>0.000672</td>\n",
       "      <td>1.504076e-07</td>\n",
       "      <td>0</td>\n",
       "      <td>1</td>\n",
       "      <td>agent_one</td>\n",
       "    </tr>\n",
       "    <tr>\n",
       "      <th>3</th>\n",
       "      <td>031938</td>\n",
       "      <td>1</td>\n",
       "      <td>0.997802</td>\n",
       "      <td>0.997802</td>\n",
       "      <td>0.997802</td>\n",
       "      <td>0.998351</td>\n",
       "      <td>9.058841e-07</td>\n",
       "      <td>1</td>\n",
       "      <td>1</td>\n",
       "      <td>agent_one</td>\n",
       "    </tr>\n",
       "    <tr>\n",
       "      <th>4</th>\n",
       "      <td>008622</td>\n",
       "      <td>0</td>\n",
       "      <td>0.001044</td>\n",
       "      <td>0.001044</td>\n",
       "      <td>0.001044</td>\n",
       "      <td>0.000783</td>\n",
       "      <td>2.042519e-07</td>\n",
       "      <td>0</td>\n",
       "      <td>1</td>\n",
       "      <td>agent_one</td>\n",
       "    </tr>\n",
       "  </tbody>\n",
       "</table>\n",
       "</div>"
      ],
      "text/plain": [
       "  image_id  label   proba_0   proba_1   proba_2  proba_mean     proba_var  pred_label  success dataset_name\n",
       "0   033740      1  0.999990  0.999990  0.999990    0.999992  1.970690e-11           1        1    agent_one\n",
       "1   001068      0  0.000719  0.000719  0.000719    0.000539  9.689039e-08           0        1    agent_one\n",
       "2   008312      0  0.000896  0.000896  0.000896    0.000672  1.504076e-07           0        1    agent_one\n",
       "3   031938      1  0.997802  0.997802  0.997802    0.998351  9.058841e-07           1        1    agent_one\n",
       "4   008622      0  0.001044  0.001044  0.001044    0.000783  2.042519e-07           0        1    agent_one"
      ]
     },
     "execution_count": 79,
     "metadata": {},
     "output_type": "execute_result"
    }
   ],
   "source": [
    "dataset = PDataset(\"agent_one\", transforms.ToTensor(), sample_count=100)\n",
    "dataset.data.head()"
   ]
  },
  {
   "cell_type": "code",
   "execution_count": 80,
   "metadata": {},
   "outputs": [
    {
     "name": "stdout",
     "output_type": "stream",
     "text": [
      "torch.Size([16, 3, 500, 500]) torch.Size([16])\n",
      "torch.Size([16, 3, 500, 500]) torch.Size([16])\n",
      "torch.Size([16, 3, 500, 500]) torch.Size([16])\n",
      "torch.Size([16, 3, 500, 500]) torch.Size([16])\n",
      "torch.Size([16, 3, 500, 500]) torch.Size([16])\n",
      "torch.Size([16, 3, 500, 500]) torch.Size([16])\n",
      "torch.Size([4, 3, 500, 500]) torch.Size([4])\n"
     ]
    }
   ],
   "source": [
    "loader = DataLoader(dataset, batch_size = 16, shuffle=True, num_workers = 8)\n",
    "\n",
    "for idx, images, labels in loader:\n",
    "    print(images.size(), labels.size())\n"
   ]
  },
  {
   "cell_type": "code",
   "execution_count": null,
   "metadata": {},
   "outputs": [],
   "source": []
  }
 ],
 "metadata": {
  "kernelspec": {
   "display_name": "Python 3",
   "language": "python",
   "name": "python3"
  },
  "language_info": {
   "codemirror_mode": {
    "name": "ipython",
    "version": 3
   },
   "file_extension": ".py",
   "mimetype": "text/x-python",
   "name": "python",
   "nbconvert_exporter": "python",
   "pygments_lexer": "ipython3",
   "version": "3.8.10"
  }
 },
 "nbformat": 4,
 "nbformat_minor": 4
}
