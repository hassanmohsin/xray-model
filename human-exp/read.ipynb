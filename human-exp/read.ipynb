{
 "cells": [
  {
   "cell_type": "code",
   "execution_count": 71,
   "metadata": {},
   "outputs": [],
   "source": [
    "import pandas as pd\n",
    "import json\n",
    "from sklearn.metrics import accuracy_score\n"
   ]
  },
  {
   "cell_type": "code",
   "execution_count": 26,
   "metadata": {},
   "outputs": [],
   "source": [
    "# Find the common participants\n",
    "def find_common_participants(json_file1, json_file2, json_file3):\n",
    "    # Read the json files\n",
    "    with open(json_file1) as f:\n",
    "        data1 = json.load(f)\n",
    "    with open(json_file2) as f:\n",
    "        data2 = json.load(f)\n",
    "    with open(json_file3) as f:\n",
    "        data3 = json.load(f)\n",
    "\n",
    "    participants1 = [response[\"name\"] for response in data1]\n",
    "    participants2 = [response[\"name\"] for response in data2]\n",
    "    participants3 = [response[\"name\"] for response in data3]\n",
    "\n",
    "    # Find the common participants\n",
    "    common_participants = list(\n",
    "        set(participants1).intersection(participants2, participants3)\n",
    "    )\n",
    "    return common_participants\n"
   ]
  },
  {
   "cell_type": "code",
   "execution_count": 30,
   "metadata": {},
   "outputs": [],
   "source": [
    "def read_json(json_file, common_participants):\n",
    "    with open(json_file) as f:\n",
    "        data = json.load(f)\n",
    "\n",
    "    output = []\n",
    "    for response in data:\n",
    "        name = response[\"name\"]\n",
    "        if not name in common_participants:\n",
    "            continue\n",
    "        entry = [name]\n",
    "        for q in range(1, 31):\n",
    "            resp = response[str(q)]\n",
    "            ans = resp[\"q1\"][0]\n",
    "            dataset_name = resp[\"dataset\"]\n",
    "            entry += [ans, dataset_name]\n",
    "        output.append(entry)\n",
    "\n",
    "    return output\n"
   ]
  },
  {
   "cell_type": "code",
   "execution_count": 84,
   "metadata": {},
   "outputs": [],
   "source": [
    "def read_json(json_files):\n",
    "    common_participants = find_common_participants(*json_files)\n",
    "    ground_truth = [\n",
    "        0,\n",
    "        0,\n",
    "        0,\n",
    "        0,\n",
    "        0,\n",
    "        0,\n",
    "        0,\n",
    "        0,\n",
    "        0,\n",
    "        0,\n",
    "        0,\n",
    "        0,\n",
    "        0,\n",
    "        0,\n",
    "        0,\n",
    "        1,\n",
    "        1,\n",
    "        1,\n",
    "        1,\n",
    "        1,\n",
    "        1,\n",
    "        1,\n",
    "        1,\n",
    "        1,\n",
    "        1,\n",
    "        1,\n",
    "        1,\n",
    "        1,\n",
    "        1,\n",
    "        1,\n",
    "    ] * 3\n",
    "    output = {}\n",
    "    for i, json_file in enumerate(json_files):\n",
    "        with open(json_file) as f:\n",
    "            data = json.load(f)\n",
    "\n",
    "        for response in data:\n",
    "            name = response[\"name\"]\n",
    "            if not name in common_participants:\n",
    "                continue\n",
    "            entry = {}\n",
    "            for q in range(1, 31):\n",
    "                resp = response[str(q)]\n",
    "                ans = resp[\"q1\"][0]\n",
    "                dataset_name = resp[\"dataset\"]\n",
    "                entry[q + 30 * i] = {\n",
    "                    \"pred\": ans,\n",
    "                    \"label\": ground_truth[q + 30 * i - 1],\n",
    "                    \"dataset\": dataset_name,\n",
    "                    \"correct\": ans == ground_truth[q + 30 * i - 1],\n",
    "                }\n",
    "            if name in output:\n",
    "                output[name].update(entry)\n",
    "            else:\n",
    "                output[name] = entry\n",
    "\n",
    "    return output\n"
   ]
  },
  {
   "cell_type": "code",
   "execution_count": 85,
   "metadata": {},
   "outputs": [],
   "source": [
    "answers = read_json([\"./exp1.json\", \"./exp2.json\", \"./exp3.json\"])\n",
    "with open(\"answers.json\", \"w\") as f:\n",
    "    json.dump(answers, f)\n"
   ]
  },
  {
   "cell_type": "code",
   "execution_count": 86,
   "metadata": {},
   "outputs": [],
   "source": [
    "dfs = []\n",
    "for name in answers.keys():\n",
    "    df = pd.DataFrame.from_dict(answers[name], orient=\"index\")\n",
    "    df[\"name\"] = pd.Series(name, index=df.index)\n",
    "    dfs.append(df[[\"name\", \"pred\", \"label\", \"dataset\", \"correct\"]])\n",
    "\n",
    "answers = pd.concat(dfs, ignore_index=True)\n",
    "answers.to_csv(\"answers.csv\", index=False)\n"
   ]
  },
  {
   "cell_type": "code",
   "execution_count": 89,
   "metadata": {},
   "outputs": [
    {
     "name": "stdout",
     "output_type": "stream",
     "text": [
      "dataset             1         2         3     4     5       6       avg\n",
      "name                                                                   \n",
      "A3JVBCF6Q5TKCJ  1.000  1.000000  0.857143  0.95  0.95  0.8750  0.933333\n",
      "AA1XATGGO13NO   1.000  1.000000  0.928571  0.95  0.80  0.7500  0.888889\n",
      "A2KRVXXFOKZHOF  1.000  0.833333  0.857143  0.95  0.85  0.8125  0.877778\n",
      "A21VU7GCDLU5J1  1.000  1.000000  0.714286  0.90  0.90  0.7500  0.866667\n",
      "A1PC3O3OZEZ6MX  1.000  1.000000  0.785714  0.85  0.75  0.8125  0.844444\n",
      "A21FSGB4C529FP  1.000  1.000000  0.785714  0.85  0.75  0.8125  0.844444\n",
      "A1PV3B0AMIBE3R  1.000  1.000000  0.857143  0.85  0.75  0.6250  0.822222\n",
      "A2T24XH5T1BTFI  0.875  0.916667  0.785714  0.95  0.75  0.6250  0.811111\n",
      "A2T6B74AUOTKIT  0.875  1.000000  0.571429  0.90  0.80  0.6250  0.788889\n",
      "A1I7H6RDJS4EKN  0.750  0.833333  0.785714  0.90  0.80  0.5625  0.777778\n",
      "A217VFGUK0BPKU  0.875  1.000000  0.642857  0.75  0.80  0.6875  0.777778\n",
      "A2ZJWAYA4LH5WX  0.500  0.750000  0.642857  0.65  0.65  0.5000  0.622222\n",
      "A1PUSSRD8P5HHH  0.750  0.666667  0.500000  0.50  0.55  0.6250  0.577778\n",
      "A1PSH1POCA1OPZ  0.500  0.416667  0.500000  0.45  0.50  0.5000  0.477778\n",
      "AMX6XZ6BPWDCR   0.500  0.666667  0.285714  0.45  0.50  0.4375  0.466667\n"
     ]
    }
   ],
   "source": [
    "performance = answers.groupby(\"name\").apply(\n",
    "    lambda x: x.groupby(\"dataset\").apply(\n",
    "        lambda y: accuracy_score(y[\"label\"], y[\"pred\"])\n",
    "    )\n",
    ")\n",
    "performance[\"avg\"] = answers.groupby(\"name\").apply(\n",
    "    lambda x: accuracy_score(x[\"label\"], x[\"pred\"])\n",
    ")\n",
    "performance.sort_values(by=\"avg\", ascending=False, inplace=True)\n",
    "performance.to_csv(\"performance.csv\")\n",
    "print(performance)\n"
   ]
  }
 ],
 "metadata": {
  "interpreter": {
   "hash": "5130fa45946653fc7179b2a5222d3ac9cea4ec492c869e74bd8d7034f436835f"
  },
  "kernelspec": {
   "display_name": "Python 3.8.10 64-bit ('.venv': venv)",
   "language": "python",
   "name": "python3"
  },
  "language_info": {
   "codemirror_mode": {
    "name": "ipython",
    "version": 3
   },
   "file_extension": ".py",
   "mimetype": "text/x-python",
   "name": "python",
   "nbconvert_exporter": "python",
   "pygments_lexer": "ipython3",
   "version": "3.8.10"
  },
  "orig_nbformat": 4
 },
 "nbformat": 4,
 "nbformat_minor": 2
}
